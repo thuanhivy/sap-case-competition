{
 "cells": [
  {
   "cell_type": "markdown",
   "id": "a7ca1b6b-39b9-498b-ac2c-52b2192b63ab",
   "metadata": {},
   "source": [
    "## Data summary: Effect of AI on Customer Churn"
   ]
  },
  {
   "cell_type": "markdown",
   "id": "fd077607-c993-4f6b-b266-ae6571580960",
   "metadata": {},
   "source": [
    "## Loaded the required library"
   ]
  },
  {
   "cell_type": "code",
   "execution_count": 6,
   "id": "2357847d-3f62-4316-b952-5cad305ece5c",
   "metadata": {},
   "outputs": [
    {
     "name": "stderr",
     "output_type": "stream",
     "text": [
      "also installing the dependency ‘workflowsets’\n",
      "\n",
      "\n",
      "Warning message in install.packages(\"tidymodels\"):\n",
      "“installation of package ‘workflowsets’ had non-zero exit status”\n",
      "Warning message in install.packages(\"tidymodels\"):\n",
      "“installation of package ‘tidymodels’ had non-zero exit status”\n",
      "Updating HTML index of packages in '.Library'\n",
      "\n",
      "Making 'packages.html' ...\n",
      " done\n",
      "\n",
      "Updating HTML index of packages in '.Library'\n",
      "\n",
      "Making 'packages.html' ...\n",
      " done\n",
      "\n",
      "Updating HTML index of packages in '.Library'\n",
      "\n",
      "Making 'packages.html' ...\n",
      " done\n",
      "\n"
     ]
    },
    {
     "ename": "ERROR",
     "evalue": "Error in library(glmnet): there is no package called ‘glmnet’\n",
     "output_type": "error",
     "traceback": [
      "Error in library(glmnet): there is no package called ‘glmnet’\nTraceback:\n",
      "1. library(glmnet)"
     ]
    }
   ],
   "source": [
    "# Installing libraries\n",
    "#library(tidymodels)\n",
    "install.packages(\"tidymodels\")\n",
    "install.packages(\"aod\")\n",
    "install.packages(\"ggcorrplot\")\n",
    "library(tidyverse)\n",
    "library(ggcorrplot)\n",
    "library(readr)\n",
    "library(aod)\n",
    "library(glmnet)\n",
    "library(caret)\n",
    "\n",
    "# Setting a seed so our analysis is random but reproducible\n",
    "set.seed(2005)\n"
   ]
  },
  {
   "cell_type": "markdown",
   "id": "8f7907a5-e75d-435f-8b68-272a4f55f940",
   "metadata": {},
   "source": [
    "## Read the data "
   ]
  },
  {
   "cell_type": "code",
   "execution_count": 2,
   "id": "96ce992a-3b55-4fec-b5f5-337baf39333a",
   "metadata": {},
   "outputs": [
    {
     "name": "stdout",
     "output_type": "stream",
     "text": [
      "Rows: 5,000\n",
      "Columns: 10\n",
      "$ ID                               \u001b[3m\u001b[90m<int>\u001b[39m\u001b[23m 1, 2, 3, 4, 5, 6, 7, 8, 9, 10, 11, 12…\n",
      "$ Age                              \u001b[3m\u001b[90m<int>\u001b[39m\u001b[23m 59, 49, 35, 63, 28, 41, 59, 39, 43, 3…\n",
      "$ AI_Interaction_Level             \u001b[3m\u001b[90m<int>\u001b[39m\u001b[23m 2, 2, 2, 2, 4, 3, 2, 3, 3, 4, 4, 2, 2…\n",
      "$ Satisfaction_with_AI_Services    \u001b[3m\u001b[90m<int>\u001b[39m\u001b[23m 7, 6, 3, 3, 6, 1, 8, 8, 8, 6, 5, 10, …\n",
      "$ AI_Personalization_Effectiveness \u001b[3m\u001b[90m<int>\u001b[39m\u001b[23m 7, 5, 3, 3, 6, 1, 9, 8, 9, 6, 6, 10, …\n",
      "$ AI_Response_Time                 \u001b[3m\u001b[90m<int>\u001b[39m\u001b[23m 2, 1, 3, 2, 1, 3, 1, 2, 2, 1, 2, 2, 1…\n",
      "$ Overall_Usage_Frequency          \u001b[3m\u001b[90m<int>\u001b[39m\u001b[23m 18, 3, 8, 6, 11, 28, 10, 12, 13, 26, …\n",
      "$ Customer_Service_Interactions    \u001b[3m\u001b[90m<int>\u001b[39m\u001b[23m 5, 2, 2, 6, 3, 2, 1, 10, 8, 3, 0, 1, …\n",
      "$ Change_in_Usage_Patterns         \u001b[3m\u001b[90m<int>\u001b[39m\u001b[23m 2, 0, 1, 2, -1, -1, -2, -2, -1, -1, 0…\n",
      "$ Customer_Churn                   \u001b[3m\u001b[90m<fct>\u001b[39m\u001b[23m 1, 0, 1, 1, 0, 0, 1, 0, 0, 0, 0, 1, 0…\n"
     ]
    }
   ],
   "source": [
    "#read data\n",
    "training_data <- read.csv(\"train.csv\")\n",
    "testing_data <- read.csv(\"test.csv\")\n",
    "\n",
    "#convert Churn from interger to factor\n",
    "training_data$Customer_Churn <- as.factor(training_data$Customer_Churn)\n",
    "\n",
    "#preview the dataset\n",
    "glimpse(training_data)\n"
   ]
  },
  {
   "cell_type": "markdown",
   "id": "3526919d-53f0-41ae-b1ee-f44b4887e0e8",
   "metadata": {},
   "source": [
    "## Data Summary "
   ]
  },
  {
   "cell_type": "code",
   "execution_count": 3,
   "id": "605ac949-ed5d-45db-9668-d04ae1f90e4f",
   "metadata": {},
   "outputs": [
    {
     "data": {
      "text/html": [
       "<table class=\"dataframe\">\n",
       "<caption>A tibble: 2 × 3</caption>\n",
       "<thead>\n",
       "\t<tr><th scope=col>Customer_Churn</th><th scope=col>number_of_observations</th><th scope=col>percentage</th></tr>\n",
       "\t<tr><th scope=col>&lt;fct&gt;</th><th scope=col>&lt;int&gt;</th><th scope=col>&lt;dbl&gt;</th></tr>\n",
       "</thead>\n",
       "<tbody>\n",
       "\t<tr><td>0</td><td>2909</td><td>58.18</td></tr>\n",
       "\t<tr><td>1</td><td>2091</td><td>41.82</td></tr>\n",
       "</tbody>\n",
       "</table>\n"
      ],
      "text/latex": [
       "A tibble: 2 × 3\n",
       "\\begin{tabular}{lll}\n",
       " Customer\\_Churn & number\\_of\\_observations & percentage\\\\\n",
       " <fct> & <int> & <dbl>\\\\\n",
       "\\hline\n",
       "\t 0 & 2909 & 58.18\\\\\n",
       "\t 1 & 2091 & 41.82\\\\\n",
       "\\end{tabular}\n"
      ],
      "text/markdown": [
       "\n",
       "A tibble: 2 × 3\n",
       "\n",
       "| Customer_Churn &lt;fct&gt; | number_of_observations &lt;int&gt; | percentage &lt;dbl&gt; |\n",
       "|---|---|---|\n",
       "| 0 | 2909 | 58.18 |\n",
       "| 1 | 2091 | 41.82 |\n",
       "\n"
      ],
      "text/plain": [
       "  Customer_Churn number_of_observations percentage\n",
       "1 0              2909                   58.18     \n",
       "2 1              2091                   41.82     "
      ]
     },
     "metadata": {},
     "output_type": "display_data"
    }
   ],
   "source": [
    "# Display the observations of customer churn\n",
    "\n",
    "total_observation_count <- nrow(training_data)\n",
    "\n",
    "observation_count_summary <- training_data |>\n",
    "    group_by(Customer_Churn) |>\n",
    "    summarize(number_of_observations = n(),\n",
    "              percentage = (n() / total_observation_count) * 100)\n",
    "\n",
    "observation_count_summary"
   ]
  },
  {
   "cell_type": "code",
   "execution_count": 4,
   "id": "1c784313-bf47-4c99-a75c-1fc9c93acfb8",
   "metadata": {},
   "outputs": [
    {
     "data": {
      "text/html": [
       "<table class=\"dataframe\">\n",
       "<caption>A tibble: 2 × 10</caption>\n",
       "<thead>\n",
       "\t<tr><th scope=col>Customer_Churn</th><th scope=col>ID_average</th><th scope=col>Age_average</th><th scope=col>AI_Interaction_Level_average</th><th scope=col>Satisfaction_with_AI_Services_average</th><th scope=col>AI_Personalization_Effectiveness_average</th><th scope=col>AI_Response_Time_average</th><th scope=col>Overall_Usage_Frequency_average</th><th scope=col>Customer_Service_Interactions_average</th><th scope=col>Change_in_Usage_Patterns_average</th></tr>\n",
       "\t<tr><th scope=col>&lt;fct&gt;</th><th scope=col>&lt;dbl&gt;</th><th scope=col>&lt;dbl&gt;</th><th scope=col>&lt;dbl&gt;</th><th scope=col>&lt;dbl&gt;</th><th scope=col>&lt;dbl&gt;</th><th scope=col>&lt;dbl&gt;</th><th scope=col>&lt;dbl&gt;</th><th scope=col>&lt;dbl&gt;</th><th scope=col>&lt;dbl&gt;</th></tr>\n",
       "</thead>\n",
       "<tbody>\n",
       "\t<tr><td>0</td><td>2524.688</td><td>41.40976</td><td>2.591612</td><td>5.761430</td><td>5.765555</td><td>1.993125</td><td>15.66140</td><td>5.056377</td><td>-0.03850120</td></tr>\n",
       "\t<tr><td>1</td><td>2466.849</td><td>44.19608</td><td>2.297944</td><td>5.161645</td><td>5.192253</td><td>1.965567</td><td>15.31133</td><td>5.079866</td><td> 0.04160689</td></tr>\n",
       "</tbody>\n",
       "</table>\n"
      ],
      "text/latex": [
       "A tibble: 2 × 10\n",
       "\\begin{tabular}{llllllllll}\n",
       " Customer\\_Churn & ID\\_average & Age\\_average & AI\\_Interaction\\_Level\\_average & Satisfaction\\_with\\_AI\\_Services\\_average & AI\\_Personalization\\_Effectiveness\\_average & AI\\_Response\\_Time\\_average & Overall\\_Usage\\_Frequency\\_average & Customer\\_Service\\_Interactions\\_average & Change\\_in\\_Usage\\_Patterns\\_average\\\\\n",
       " <fct> & <dbl> & <dbl> & <dbl> & <dbl> & <dbl> & <dbl> & <dbl> & <dbl> & <dbl>\\\\\n",
       "\\hline\n",
       "\t 0 & 2524.688 & 41.40976 & 2.591612 & 5.761430 & 5.765555 & 1.993125 & 15.66140 & 5.056377 & -0.03850120\\\\\n",
       "\t 1 & 2466.849 & 44.19608 & 2.297944 & 5.161645 & 5.192253 & 1.965567 & 15.31133 & 5.079866 &  0.04160689\\\\\n",
       "\\end{tabular}\n"
      ],
      "text/markdown": [
       "\n",
       "A tibble: 2 × 10\n",
       "\n",
       "| Customer_Churn &lt;fct&gt; | ID_average &lt;dbl&gt; | Age_average &lt;dbl&gt; | AI_Interaction_Level_average &lt;dbl&gt; | Satisfaction_with_AI_Services_average &lt;dbl&gt; | AI_Personalization_Effectiveness_average &lt;dbl&gt; | AI_Response_Time_average &lt;dbl&gt; | Overall_Usage_Frequency_average &lt;dbl&gt; | Customer_Service_Interactions_average &lt;dbl&gt; | Change_in_Usage_Patterns_average &lt;dbl&gt; |\n",
       "|---|---|---|---|---|---|---|---|---|---|\n",
       "| 0 | 2524.688 | 41.40976 | 2.591612 | 5.761430 | 5.765555 | 1.993125 | 15.66140 | 5.056377 | -0.03850120 |\n",
       "| 1 | 2466.849 | 44.19608 | 2.297944 | 5.161645 | 5.192253 | 1.965567 | 15.31133 | 5.079866 |  0.04160689 |\n",
       "\n"
      ],
      "text/plain": [
       "  Customer_Churn ID_average Age_average AI_Interaction_Level_average\n",
       "1 0              2524.688   41.40976    2.591612                    \n",
       "2 1              2466.849   44.19608    2.297944                    \n",
       "  Satisfaction_with_AI_Services_average\n",
       "1 5.761430                             \n",
       "2 5.161645                             \n",
       "  AI_Personalization_Effectiveness_average AI_Response_Time_average\n",
       "1 5.765555                                 1.993125                \n",
       "2 5.192253                                 1.965567                \n",
       "  Overall_Usage_Frequency_average Customer_Service_Interactions_average\n",
       "1 15.66140                        5.056377                             \n",
       "2 15.31133                        5.079866                             \n",
       "  Change_in_Usage_Patterns_average\n",
       "1 -0.03850120                     \n",
       "2  0.04160689                     "
      ]
     },
     "metadata": {},
     "output_type": "display_data"
    }
   ],
   "source": [
    "# Display the average value of all predictor variables\n",
    "\n",
    "average_value_summary <- training_data |>\n",
    "    group_by(Customer_Churn) |>\n",
    " rename_with(~ paste(.x, \"average\", sep = \"_\"), -Customer_Churn) |>\n",
    "    summarize(across(everything(), ~ mean(.x, na.rm = TRUE)))\n",
    "\n",
    "average_value_summary"
   ]
  },
  {
   "cell_type": "markdown",
   "id": "e0da45ba-0e90-4568-b5dd-1ead9af3a849",
   "metadata": {},
   "source": [
    "## Correlation between variables"
   ]
  },
  {
   "cell_type": "code",
   "execution_count": 10,
   "id": "0e1fbd7c-2940-4440-b721-e17dda57911e",
   "metadata": {},
   "outputs": [
    {
     "ename": "ERROR",
     "evalue": "Error in cor(training_data, use = \"complete.obs\"): 'x' must be numeric\n",
     "output_type": "error",
     "traceback": [
      "Error in cor(training_data, use = \"complete.obs\"): 'x' must be numeric\nTraceback:\n",
      "1. cor(training_data, use = \"complete.obs\")",
      "2. stop(\"'x' must be numeric\")"
     ]
    }
   ],
   "source": [
    "train_non_factor <- training_data\n",
    "train_non_factor$Customer_Churn <- as.numeric(training_data$Customer_Churn)\n",
    "\n",
    "# Correlation for different combinations of variables\n",
    "correlation<- training_data |> cor(use=\"complete.obs\") # find the correlation\n",
    "ggcorrplot(correlation, \n",
    "          hc.order = TRUE, \n",
    "          lab = TRUE, \n",
    "          type = \"lower\");\n",
    "\n",
    "# Comparing the Variables\n",
    "compare_customers <- function(){\n",
    "    ggplot(churn, aes(x = Customer_Churn, color = as.factor(AI_Interaction_Level))) +\n",
    "    geom_histogram(fill = \"white\", bins = 10)\n",
    "}\n",
    "\n",
    "table(train$Customer_Churn)"
   ]
  }
 ],
 "metadata": {
  "kernelspec": {
   "display_name": "R",
   "language": "R",
   "name": "ir"
  },
  "language_info": {
   "codemirror_mode": "r",
   "file_extension": ".r",
   "mimetype": "text/x-r-source",
   "name": "R",
   "pygments_lexer": "r",
   "version": "4.3.1"
  }
 },
 "nbformat": 4,
 "nbformat_minor": 5
}
