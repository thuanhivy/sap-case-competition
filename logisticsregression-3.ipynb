{
 "cells": [
  {
   "cell_type": "markdown",
   "id": "2173410e-3c11-4636-aecd-204f1e5948fa",
   "metadata": {},
   "source": [
    "# Effect of AI on Customer Churn\n"
   ]
  },
  {
   "cell_type": "markdown",
   "id": "56c2b10c-2e7b-4a92-aac6-9bbfea16013d",
   "metadata": {},
   "source": [
    "## Load the required libraries"
   ]
  },
  {
   "cell_type": "code",
   "execution_count": null,
   "id": "9b84d50f-4e9c-4b8b-a00e-17bae96aad3d",
   "metadata": {},
   "outputs": [
    {
     "name": "stderr",
     "output_type": "stream",
     "text": [
      "also installing the dependencies ‘dials’, ‘hardhat’, ‘infer’, ‘modeldata’, ‘parsnip’, ‘recipes’, ‘rsample’, ‘tidyr’, ‘tune’, ‘workflows’, ‘workflowsets’, ‘yardstick’\n",
      "\n",
      "\n",
      "Warning message in install.packages(\"tidymodels\"):\n",
      "“installation of package ‘dials’ had non-zero exit status”\n"
     ]
    }
   ],
   "source": [
    "install.packages(\"tidymodels\")\n",
    "install.packages(\"aod\")\n",
    "install.packages(\"glmnet\")"
   ]
  },
  {
   "cell_type": "code",
   "execution_count": null,
   "id": "42a6567c-7cb5-4b11-9ad1-ae38246d147a",
   "metadata": {},
   "outputs": [],
   "source": [
    "# Installing libraries\n",
    "library(tidymodels)\n",
    "library(tidyverse)\n",
    "library(glmnet)\n",
    "\n",
    "# Setting a seed so our analysis is random but reproducible\n",
    "set.seed(2005)"
   ]
  },
  {
   "cell_type": "markdown",
   "id": "9c9c1f64-a089-4681-bc30-c0fe7e74890f",
   "metadata": {},
   "source": [
    "## Read the data "
   ]
  },
  {
   "cell_type": "code",
   "execution_count": null,
   "id": "b82fd9d4-7ed4-4df2-8d20-f7eeac784011",
   "metadata": {},
   "outputs": [],
   "source": [
    "#read data\n",
    "training_data <- read.csv(\"train.csv\")\n",
    "testing_data <- read.csv(\"test.csv\")\n",
    "\n",
    "#convert Churn from interger to factor from training_data\n",
    "training_data$Customer_Churn <- as.factor(training_data$Customer_Churn)\n",
    "\n",
    "#convert Churn from interger to factor from testing_data\n",
    "testing_data$Customer_Churn <- as.factor(testing_data$Customer_Churn)\n",
    "\n",
    "#preview the dataset\n",
    "glimpse(training_data)"
   ]
  },
  {
   "cell_type": "markdown",
   "id": "510edd11-ee7b-4fa6-85b6-1bc4931324f1",
   "metadata": {},
   "source": [
    "## Making predictions based on the testing data"
   ]
  },
  {
   "cell_type": "code",
   "execution_count": null,
   "id": "dfdab96b-2ccb-4c62-b41c-8124839238e2",
   "metadata": {},
   "outputs": [],
   "source": [
    "# Train a logistic regression model\n",
    "model <- logistic_reg(mixture = double(1), penalty = double(1)) %>%\n",
    "  set_engine(\"glmnet\") %>%\n",
    "  set_mode(\"classification\") %>%\n",
    "  fit(Customer_Churn ~ ., data = training_data)\n",
    "\n",
    "# Model summary\n",
    "tidy(model)\n",
    "\n",
    "# Class Predictions\n",
    "pred_class <- predict(model,\n",
    "                      new_data = testing_data,\n",
    "                      type = \"class\")\n",
    "\n",
    "# Class Probabilities\n",
    "pred_proba <- predict(model,\n",
    "                      new_data = testing_data,\n",
    "                      type = \"prob\")"
   ]
  },
  {
   "cell_type": "markdown",
   "id": "63501317-366a-4726-bfdf-5a254ce2f492",
   "metadata": {},
   "source": [
    "## Performing logistic regression - Hyperparameter Tuning"
   ]
  },
  {
   "cell_type": "code",
   "execution_count": null,
   "id": "30600d4d-aa62-46fe-9bcc-cf54a0504996",
   "metadata": {
    "scrolled": true
   },
   "outputs": [],
   "source": [
    "# Define the logistic regression model with penalty and mixture hyperparameters\n",
    "log_reg <- logistic_reg(mixture = tune(), penalty = tune(), engine = \"glmnet\")\n",
    "\n",
    "# Define the grid search for the hyperparameters\n",
    "grid <- grid_regular(mixture(), penalty(), levels = c(mixture = 4, penalty = 3))\n",
    "\n",
    "# Define the workflow for the model\n",
    "log_reg_wf <- workflow() %>%\n",
    "  add_model(log_reg) %>%\n",
    "  add_formula(Customer_Churn ~ .)\n",
    "\n",
    "# Define the resampling method for the grid search\n",
    "folds <- vfold_cv(training_data, v = 5)\n",
    "\n",
    "# Tune the hyperparameters using the grid search\n",
    "log_reg_tuned <- tune_grid(\n",
    "  log_reg_wf,\n",
    "  resamples = folds,\n",
    "  grid = grid,\n",
    "  control = control_grid(save_pred = TRUE))\n",
    "\n",
    "select_best(log_reg_tuned, metric = \"roc_auc\")"
   ]
  },
  {
   "cell_type": "markdown",
   "id": "e204560a-f9e9-4b8c-864e-9217855088fa",
   "metadata": {},
   "source": [
    "We can see that the model works best with penalty = 1e-10 and mixture = 0.6666667"
   ]
  },
  {
   "cell_type": "markdown",
   "id": "8a6e52d2-2460-41ec-b1b2-48c0f776ddb6",
   "metadata": {},
   "source": [
    "## Performing logistic regression - Applying model"
   ]
  },
  {
   "cell_type": "code",
   "execution_count": null,
   "id": "0fe5277c-3a99-4684-a973-0a39b07d7e0c",
   "metadata": {},
   "outputs": [],
   "source": [
    "log_reg_final <- logistic_reg(penalty = 1e-10 , mixture = 0.6666667) %>%\n",
    "                 set_engine(\"glmnet\") %>%\n",
    "                 set_mode(\"classification\") %>%\n",
    "                 fit(Customer_Churn ~ Satisfaction_with_AI_Services+\n",
    "                     +Customer_Service_Interactions\n",
    "                     +Age\n",
    "                , data = training_data)\n",
    "\n",
    "# Evaluate the model performance on the testing set\n",
    "pred_class <- predict(log_reg_final,\n",
    "                      new_data = testing_data,\n",
    "                      type = \"class\")\n",
    "\n",
    "results <- testing_data |>\n",
    "  #select(ID, Customer_Churn) |>\n",
    "  bind_cols(pred_proba, pred_class)\n",
    "\n",
    "\n",
    "# Assessing the results\n",
    "result_form <- results |>\n",
    "   #select(ID, .pred_class) |>\n",
    "    tibble()\n",
    "\n",
    "colnames(result_form) <- c(\"ID\", \"Prediction\") \n",
    "\n",
    "# Create confusion matrix\n",
    "conf_mat(results, truth = Customer_Churn,\n",
    "         estimate = .pred_class)\n",
    "\n",
    "#Calculate the accuracy rate\n",
    "accuracy(results, truth= Customer_Churn, estimate = .pred_class)\n"
   ]
  },
  {
   "cell_type": "markdown",
   "id": "24aff18f-fa60-4af5-aefc-a63e01fb0281",
   "metadata": {},
   "source": [
    "## Conclusion "
   ]
  },
  {
   "cell_type": "code",
   "execution_count": null,
   "id": "de65a74d-ff7d-42c2-8e24-1d324d9aaae4",
   "metadata": {},
   "outputs": [],
   "source": [
    "# Downloading Prediction to further conclusion\n",
    "write.csv(result_form, \"prediction.csv\", row.names = FALSE, sep = \",\")"
   ]
  },
  {
   "cell_type": "code",
   "execution_count": null,
   "id": "b2444887-70ab-4ccc-9822-a99b239e66ee",
   "metadata": {},
   "outputs": [],
   "source": []
  },
  {
   "cell_type": "code",
   "execution_count": null,
   "id": "6b7b99a9-ccc2-4082-8fcd-5f7d9fd5d081",
   "metadata": {},
   "outputs": [],
   "source": []
  }
 ],
 "metadata": {
  "kernelspec": {
   "display_name": "R",
   "language": "R",
   "name": "ir"
  },
  "language_info": {
   "codemirror_mode": "r",
   "file_extension": ".r",
   "mimetype": "text/x-r-source",
   "name": "R",
   "pygments_lexer": "r",
   "version": "4.3.1"
  }
 },
 "nbformat": 4,
 "nbformat_minor": 5
}
