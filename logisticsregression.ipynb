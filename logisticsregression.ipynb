{
 "cells": [
  {
   "cell_type": "markdown",
   "id": "2173410e-3c11-4636-aecd-204f1e5948fa",
   "metadata": {},
   "source": [
    "# Effect of AI on Customer Churn\n"
   ]
  },
  {
   "cell_type": "markdown",
   "id": "56c2b10c-2e7b-4a92-aac6-9bbfea16013d",
   "metadata": {},
   "source": [
    "## Load the required libraries"
   ]
  },
  {
   "cell_type": "code",
   "execution_count": 1,
   "id": "9b84d50f-4e9c-4b8b-a00e-17bae96aad3d",
   "metadata": {},
   "outputs": [
    {
     "name": "stderr",
     "output_type": "stream",
     "text": [
      "Warning message in install.packages(\"tidymodels\"):\n",
      "“installation of package ‘tidymodels’ had non-zero exit status”\n",
      "Updating HTML index of packages in '.Library'\n",
      "\n",
      "Making 'packages.html' ...\n",
      " done\n",
      "\n",
      "Updating HTML index of packages in '.Library'\n",
      "\n",
      "Making 'packages.html' ...\n",
      " done\n",
      "\n",
      "also installing the dependency ‘RcppEigen’\n",
      "\n",
      "\n",
      "Warning message in install.packages(\"glmnet\"):\n",
      "“installation of package ‘RcppEigen’ had non-zero exit status”\n",
      "Warning message in install.packages(\"glmnet\"):\n",
      "“installation of package ‘glmnet’ had non-zero exit status”\n",
      "Updating HTML index of packages in '.Library'\n",
      "\n",
      "Making 'packages.html' ...\n",
      " done\n",
      "\n"
     ]
    }
   ],
   "source": [
    "install.packages(\"tidymodels\");\n",
    "install.packages(\"aod\")\n",
    "install.packages(\"glmnet\");"
   ]
  },
  {
   "cell_type": "code",
   "execution_count": 2,
   "id": "42a6567c-7cb5-4b11-9ad1-ae38246d147a",
   "metadata": {},
   "outputs": [
    {
     "name": "stderr",
     "output_type": "stream",
     "text": [
      "── \u001b[1mAttaching core tidyverse packages\u001b[22m ──────────────────────── tidyverse 2.0.0 ──\n",
      "\u001b[32m✔\u001b[39m \u001b[34mdplyr    \u001b[39m 1.1.3     \u001b[32m✔\u001b[39m \u001b[34mreadr    \u001b[39m 2.1.4\n",
      "\u001b[32m✔\u001b[39m \u001b[34mforcats  \u001b[39m 1.0.0     \u001b[32m✔\u001b[39m \u001b[34mstringr  \u001b[39m 1.5.0\n",
      "\u001b[32m✔\u001b[39m \u001b[34mggplot2  \u001b[39m 3.4.4     \u001b[32m✔\u001b[39m \u001b[34mtibble   \u001b[39m 3.2.1\n",
      "\u001b[32m✔\u001b[39m \u001b[34mlubridate\u001b[39m 1.9.3     \u001b[32m✔\u001b[39m \u001b[34mtidyr    \u001b[39m 1.3.0\n",
      "\u001b[32m✔\u001b[39m \u001b[34mpurrr    \u001b[39m 1.0.2     \n",
      "── \u001b[1mConflicts\u001b[22m ────────────────────────────────────────── tidyverse_conflicts() ──\n",
      "\u001b[31m✖\u001b[39m \u001b[34mdplyr\u001b[39m::\u001b[32mfilter()\u001b[39m masks \u001b[34mstats\u001b[39m::filter()\n",
      "\u001b[31m✖\u001b[39m \u001b[34mdplyr\u001b[39m::\u001b[32mlag()\u001b[39m    masks \u001b[34mstats\u001b[39m::lag()\n",
      "\u001b[36mℹ\u001b[39m Use the conflicted package (\u001b[3m\u001b[34m<http://conflicted.r-lib.org/>\u001b[39m\u001b[23m) to force all conflicts to become errors\n"
     ]
    },
    {
     "ename": "ERROR",
     "evalue": "Error in library(glmnet): there is no package called ‘glmnet’\n",
     "output_type": "error",
     "traceback": [
      "Error in library(glmnet): there is no package called ‘glmnet’\nTraceback:\n",
      "1. library(glmnet)"
     ]
    }
   ],
   "source": [
    "# Installing libraries\n",
    "#library(tidymodels)\n",
    "library(tidyverse)\n",
    "library(ggcorrplot)\n",
    "library(readr)\n",
    "library(aod)\n",
    "library(glmnet)\n",
    "library(caret)\n",
    "\n",
    "# Setting a seed so our analysis is random but reproducible\n",
    "set.seed(2005)"
   ]
  },
  {
   "cell_type": "markdown",
   "id": "9c9c1f64-a089-4681-bc30-c0fe7e74890f",
   "metadata": {},
   "source": [
    "## Read the data "
   ]
  },
  {
   "cell_type": "code",
   "execution_count": null,
   "id": "b82fd9d4-7ed4-4df2-8d20-f7eeac784011",
   "metadata": {},
   "outputs": [],
   "source": [
    "#read data\n",
    "training_data <- read.csv(\"train.csv\")\n",
    "testing_data <- read.csv(\"test.csv\")\n",
    "\n",
    "#convert Churn from interger to factor\n",
    "training_data$Customer_Churn <- as.factor(training_data$Customer_Churn)\n",
    "\n",
    "#preview the dataset\n",
    "glimpse(training_data)\n"
   ]
  },
  {
   "cell_type": "markdown",
   "id": "0c5a037b-95d8-416e-92a8-a9053f69e1ab",
   "metadata": {},
   "source": [
    "## Data summary\n"
   ]
  },
  {
   "cell_type": "code",
   "execution_count": null,
   "id": "9bcab2e0-d6f6-4489-8e9e-0db31be2ffd4",
   "metadata": {},
   "outputs": [],
   "source": [
    "# Display the observations of customer churn\n",
    "\n",
    "total_observation_count <- nrow(training_data)\n",
    "\n",
    "observation_count_summary <- training_data |>\n",
    "    group_by(Customer_Churn) |>\n",
    "    summarize(number_of_observations = n(),\n",
    "              percentage = (n() / total_observation_count) * 100)\n",
    "\n",
    "observation_count_summary"
   ]
  },
  {
   "cell_type": "code",
   "execution_count": null,
   "id": "008faef4-6d76-45e3-a578-359ea9edc2c1",
   "metadata": {},
   "outputs": [],
   "source": [
    "# Display the average value of all predictor variables\n",
    "\n",
    "average_value_summary <- training_data |>\n",
    "    group_by(Customer_Churn) |>\n",
    " rename_with(~ paste(.x, \"average\", sep = \"_\"), -Customer_Churn) |>\n",
    "    summarize(across(everything(), ~ mean(.x, na.rm = TRUE)))\n",
    "\n",
    "average_value_summary"
   ]
  },
  {
   "cell_type": "markdown",
   "id": "1d0514c5-5037-4054-a68a-546e2f42a352",
   "metadata": {},
   "source": [
    "## Visualization of training data"
   ]
  },
  {
   "cell_type": "code",
   "execution_count": null,
   "id": "ca143d61-2bea-46cb-96ef-27ff23016656",
   "metadata": {
    "scrolled": true
   },
   "outputs": [],
   "source": [
    "# Visualize the distribution of our relevant feature variables\n",
    "options(repr.plot.width = 14, repr.plot.height = 8)\n",
    "\n",
    "age_plot <- ggplot(training_data, aes(Age, fill = Customer_Churn)) +\n",
    "    geom_bar() +\n",
    "    coord_flip()\n",
    "\n",
    "ai_interaction_plot <- ggplot(training_data, aes(AI_Interaction_Level, fill = Customer_Churn)) +\n",
    "    geom_bar() +\n",
    "    coord_flip()\n",
    "\n",
    "satisfaction_plot <- ggplot(training_data, aes(Satisfaction_with_AI_Services, fill = Customer_Churn)) +\n",
    "    geom_bar() +\n",
    "    coord_flip()\n",
    "\n",
    "persionalization_plot <- ggplot(training_data, aes(AI_Personalization_Effectiveness, fill = Customer_Churn)) +\n",
    "    geom_bar() +\n",
    "    coord_flip()\n",
    "\n",
    "response_time_plot <- ggplot(training_data, aes(AI_Response_Time, fill = Customer_Churn)) +\n",
    "    geom_bar() +\n",
    "    coord_flip()\n",
    "\n",
    "usage_frequency_plot <- ggplot(training_data, aes(Overall_Usage_Frequency, fill = Customer_Churn)) +\n",
    "    geom_bar() +\n",
    "    coord_flip()\n",
    "\n",
    "customer_service_int_plot <- ggplot(training_data, aes(Customer_Service_Interactions, fill = Customer_Churn)) +\n",
    "    geom_bar() +\n",
    "    coord_flip()\n",
    "\n",
    "usage_patterns_plot <- ggplot(training_data, aes(Change_in_Usage_Patterns, fill = Customer_Churn)) +\n",
    "    geom_bar() +\n",
    "    coord_flip()\n",
    "\n",
    "grid.arrange(age_plot, ai_interaction_plot, satisfaction_plot, ncol=3)\n",
    "grid.arrange(persionalization_plot, customer_service_int_plot,usage_patterns_plot, ncol=3)"
   ]
  },
  {
   "cell_type": "markdown",
   "id": "7ef61f0f-6a5c-4199-9a0c-67f3ed6ad2f5",
   "metadata": {},
   "source": [
    "## Correlation between variables "
   ]
  },
  {
   "cell_type": "code",
   "execution_count": null,
   "id": "34b4daca-8b7c-4129-9e66-6a7ba9c5fe73",
   "metadata": {},
   "outputs": [],
   "source": [
    "train_non_factor <- training_data\n",
    "train_non_factor$Customer_Churn <- as.numeric(training_data$Customer_Churn)\n",
    "\n",
    "# Correlation for different combinations of variables\n",
    "correlation<- train_non_factor |> cor(use=\"complete.obs\") # find the correlation\n",
    "ggcorrplot(correlation, \n",
    "          hc.order = TRUE, \n",
    "          lab = TRUE, \n",
    "          type = \"lower\");\n",
    "\n",
    "# Comparing the Variables\n",
    "compare_customers <- function(){\n",
    "    ggplot(churn, aes(x = Customer_Churn, color = as.factor(AI_Interaction_Level))) +\n",
    "    geom_histogram(fill = \"white\", bins = 10)\n",
    "}\n",
    "\n",
    "table(train$Customer_Churn)"
   ]
  },
  {
   "cell_type": "markdown",
   "id": "63501317-366a-4726-bfdf-5a254ce2f492",
   "metadata": {},
   "source": [
    "## Performing logistic regression"
   ]
  },
  {
   "cell_type": "code",
   "execution_count": null,
   "id": "30600d4d-aa62-46fe-9bcc-cf54a0504996",
   "metadata": {},
   "outputs": [],
   "source": [
    "# Define the logistic regression model with penalty and mixture hyperparameters\n",
    "log_reg <- logistic_reg(mixture = tune(), penalty = tune(), engine = \"glmnet\")\n",
    "\n",
    "# Define the grid search for the hyperparameters\n",
    "grid <- grid_regular(mixture(), penalty(), levels = c(mixture = 4, penalty = 3))\n",
    "\n",
    "# Define the workflow for the model\n",
    "log_reg_wf <- workflow() %>%\n",
    "  add_model(log_reg) %>%\n",
    "  add_formula(y ~ .)\n",
    "\n",
    "# Define the resampling method for the grid search\n",
    "folds <- vfold_cv(training_data, v = 5)\n",
    "\n",
    "# Tune the hyperparameters using the grid search\n",
    "log_reg_tuned <- tune_grid(\n",
    "  log_reg_wf,\n",
    "  resamples = folds,\n",
    "  grid = grid,\n",
    "  control = control_grid(save_pred = TRUE))\n",
    "\n",
    "select_best(log_reg_tuned, metric = \"roc_auc\")"
   ]
  },
  {
   "cell_type": "code",
   "execution_count": null,
   "id": "353e7f9f-fe5c-46f3-a504-43555aad3a03",
   "metadata": {},
   "outputs": [],
   "source": []
  },
  {
   "cell_type": "code",
   "execution_count": null,
   "id": "8b23e5c3-517e-4b58-a088-b2f5a4ee2a21",
   "metadata": {},
   "outputs": [],
   "source": []
  },
  {
   "cell_type": "code",
   "execution_count": null,
   "id": "28194dc2-1045-4e9c-91ff-c96ace7daa19",
   "metadata": {},
   "outputs": [],
   "source": []
  },
  {
   "cell_type": "code",
   "execution_count": null,
   "id": "957198da-4ce0-44b8-a5ff-0e19b30545b5",
   "metadata": {},
   "outputs": [],
   "source": []
  },
  {
   "cell_type": "code",
   "execution_count": null,
   "id": "b94b9efc-410f-4e30-b629-e71c4ff31e57",
   "metadata": {},
   "outputs": [],
   "source": []
  },
  {
   "cell_type": "code",
   "execution_count": null,
   "id": "30480e8c-de0c-4084-8dd3-ac9ee4b1153c",
   "metadata": {},
   "outputs": [],
   "source": []
  }
 ],
 "metadata": {
  "kernelspec": {
   "display_name": "R",
   "language": "R",
   "name": "ir"
  },
  "language_info": {
   "codemirror_mode": "r",
   "file_extension": ".r",
   "mimetype": "text/x-r-source",
   "name": "R",
   "pygments_lexer": "r",
   "version": "4.3.1"
  }
 },
 "nbformat": 4,
 "nbformat_minor": 5
}
