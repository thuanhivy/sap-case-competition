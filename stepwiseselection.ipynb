{
 "cells": [
  {
   "cell_type": "markdown",
   "id": "c8065c51-6f95-447c-9cc6-343cf7c7335a",
   "metadata": {},
   "source": [
    "## Performing Stepwise Selection"
   ]
  },
  {
   "cell_type": "code",
   "execution_count": 1,
   "id": "e9b52efa-d0c2-4dc3-bf2d-c496ce065e26",
   "metadata": {},
   "outputs": [
    {
     "name": "stderr",
     "output_type": "stream",
     "text": [
      "Updating HTML index of packages in '.Library'\n",
      "\n",
      "Making 'packages.html' ...\n",
      " done\n",
      "\n",
      "Updating HTML index of packages in '.Library'\n",
      "\n",
      "Making 'packages.html' ...\n",
      " done\n",
      "\n",
      "Updating HTML index of packages in '.Library'\n",
      "\n",
      "Making 'packages.html' ...\n",
      " done\n",
      "\n",
      "Type 'citation(\"pROC\")' for a citation.\n",
      "\n",
      "\n",
      "Attaching package: ‘pROC’\n",
      "\n",
      "\n",
      "The following objects are masked from ‘package:stats’:\n",
      "\n",
      "    cov, smooth, var\n",
      "\n",
      "\n"
     ]
    }
   ],
   "source": [
    "#Loaded the required library\n",
    "install.packages('mlbench')\n",
    "install.packages('MASS')\n",
    "install.packages('pROC')\n",
    "library(mlbench)\n",
    "library(MASS)\n",
    "library(pROC)\n",
    "# Setting a seed so our analysis is random but reproducible\n",
    "set.seed(2005)"
   ]
  },
  {
   "cell_type": "markdown",
   "id": "03491227-53c3-4cd6-8060-b357bd5728f8",
   "metadata": {},
   "source": [
    "## Read the dataset"
   ]
  },
  {
   "cell_type": "code",
   "execution_count": 2,
   "id": "25740190-6c16-4362-8360-3fe00dfec06e",
   "metadata": {},
   "outputs": [],
   "source": [
    "#read data\n",
    "training_data <- read.csv(\"train.csv\")\n",
    "testing_data <- read.csv(\"test.csv\")\n",
    "\n",
    "#convert Churn from interger to factor from training_data\n",
    "training_data$Customer_Churn <- as.factor(training_data$Customer_Churn)\n",
    "\n",
    "#convert Churn from interger to factor from testing_data\n",
    "testing_data$Customer_Churn <- as.factor(testing_data$Customer_Churn)\n"
   ]
  },
  {
   "cell_type": "markdown",
   "id": "99d341ce-1af5-4287-bd5d-6c0deab81e25",
   "metadata": {},
   "source": [
    "## Performing Stepwise Selection"
   ]
  },
  {
   "cell_type": "code",
   "execution_count": 3,
   "id": "b7e7e270-9050-4e77-a077-630b635bd843",
   "metadata": {},
   "outputs": [],
   "source": [
    "logit_1 <- glm(Customer_Churn~ AI_Personalization_Effectiveness \n",
    "+ Customer_Service_Interactions    \n",
    "+ AI_Response_Time                 \n",
    "+ Overall_Usage_Frequency                                          \n",
    "+ Age                                                            \n",
    "+ Change_in_Usage_Patterns         \n",
    "+ Satisfaction_with_AI_Services     \n",
    "+ AI_Interaction_Level, family = binomial,data = training_data)"
   ]
  },
  {
   "cell_type": "code",
   "execution_count": 4,
   "id": "dbc8a2d8-92e0-4f68-b686-2b3fb74edfb8",
   "metadata": {
    "scrolled": true
   },
   "outputs": [
    {
     "name": "stdout",
     "output_type": "stream",
     "text": [
      "Start:  AIC=6628.7\n",
      "Customer_Churn ~ AI_Personalization_Effectiveness + Customer_Service_Interactions + \n",
      "    AI_Response_Time + Overall_Usage_Frequency + Age + Change_in_Usage_Patterns + \n",
      "    Satisfaction_with_AI_Services + AI_Interaction_Level\n",
      "\n",
      "                                   Df Deviance    AIC\n",
      "- AI_Personalization_Effectiveness  1   6610.8 6626.8\n",
      "- Customer_Service_Interactions     1   6610.9 6626.9\n",
      "- AI_Response_Time                  1   6612.0 6628.0\n",
      "- Overall_Usage_Frequency           1   6612.4 6628.4\n",
      "<none>                                  6610.7 6628.7\n",
      "- Age                               1   6613.3 6629.3\n",
      "- Change_in_Usage_Patterns          1   6614.0 6630.0\n",
      "- Satisfaction_with_AI_Services     1   6616.0 6632.0\n",
      "- AI_Interaction_Level              1   6675.5 6691.5\n",
      "\n",
      "Step:  AIC=6626.78\n",
      "Customer_Churn ~ Customer_Service_Interactions + AI_Response_Time + \n",
      "    Overall_Usage_Frequency + Age + Change_in_Usage_Patterns + \n",
      "    Satisfaction_with_AI_Services + AI_Interaction_Level\n",
      "\n",
      "                                Df Deviance    AIC\n",
      "- Customer_Service_Interactions  1   6610.9 6624.9\n",
      "- AI_Response_Time               1   6612.0 6626.0\n",
      "- Overall_Usage_Frequency        1   6612.5 6626.5\n",
      "<none>                               6610.8 6626.8\n",
      "- Age                            1   6613.4 6627.4\n",
      "- Change_in_Usage_Patterns       1   6614.1 6628.1\n",
      "- Satisfaction_with_AI_Services  1   6668.0 6682.0\n",
      "- AI_Interaction_Level           1   6675.6 6689.6\n",
      "\n",
      "Step:  AIC=6624.93\n",
      "Customer_Churn ~ AI_Response_Time + Overall_Usage_Frequency + \n",
      "    Age + Change_in_Usage_Patterns + Satisfaction_with_AI_Services + \n",
      "    AI_Interaction_Level\n",
      "\n",
      "                                Df Deviance    AIC\n",
      "- AI_Response_Time               1   6612.2 6624.2\n",
      "- Overall_Usage_Frequency        1   6612.7 6624.7\n",
      "<none>                               6610.9 6624.9\n",
      "- Age                            1   6613.6 6625.6\n",
      "- Change_in_Usage_Patterns       1   6614.2 6626.2\n",
      "- Satisfaction_with_AI_Services  1   6668.1 6680.1\n",
      "- AI_Interaction_Level           1   6675.8 6687.8\n",
      "\n",
      "Step:  AIC=6624.18\n",
      "Customer_Churn ~ Overall_Usage_Frequency + Age + Change_in_Usage_Patterns + \n",
      "    Satisfaction_with_AI_Services + AI_Interaction_Level\n",
      "\n",
      "                                Df Deviance    AIC\n",
      "- Overall_Usage_Frequency        1   6613.8 6623.8\n",
      "<none>                               6612.2 6624.2\n",
      "- Age                            1   6614.8 6624.8\n",
      "- Change_in_Usage_Patterns       1   6615.4 6625.4\n",
      "- Satisfaction_with_AI_Services  1   6669.3 6679.3\n",
      "- AI_Interaction_Level           1   6677.1 6687.1\n",
      "\n",
      "Step:  AIC=6623.84\n",
      "Customer_Churn ~ Age + Change_in_Usage_Patterns + Satisfaction_with_AI_Services + \n",
      "    AI_Interaction_Level\n",
      "\n",
      "                                Df Deviance    AIC\n",
      "<none>                               6613.8 6623.8\n",
      "- Age                            1   6616.5 6624.5\n",
      "- Change_in_Usage_Patterns       1   6617.1 6625.1\n",
      "- Satisfaction_with_AI_Services  1   6671.1 6679.1\n",
      "- AI_Interaction_Level           1   6678.8 6686.8\n"
     ]
    }
   ],
   "source": [
    "logit_2 <- stepAIC(logit_1)"
   ]
  },
  {
   "cell_type": "markdown",
   "id": "6056a4da-440c-4ae4-a327-00c4bb1bb339",
   "metadata": {},
   "source": [
    "From the summary above, we can see that the best predictors are Age, Change in Usage Patterns, Satisfaction with AI Services, and AI Interaction Level. However, taking into consideration disadvantages of stepwise "
   ]
  },
  {
   "cell_type": "code",
   "execution_count": 5,
   "id": "3ae54448-446b-45d1-8b3d-df97ce4f89a8",
   "metadata": {},
   "outputs": [
    {
     "data": {
      "text/plain": [
       "   Min. 1st Qu.  Median    Mean 3rd Qu.    Max. \n",
       " 0.2073  0.3501  0.4166  0.4182  0.4838  0.6518 "
      ]
     },
     "metadata": {},
     "output_type": "display_data"
    }
   ],
   "source": [
    "summary(logit_2$fitted.values)"
   ]
  }
 ],
 "metadata": {
  "kernelspec": {
   "display_name": "R",
   "language": "R",
   "name": "ir"
  },
  "language_info": {
   "codemirror_mode": "r",
   "file_extension": ".r",
   "mimetype": "text/x-r-source",
   "name": "R",
   "pygments_lexer": "r",
   "version": "4.3.1"
  }
 },
 "nbformat": 4,
 "nbformat_minor": 5
}
